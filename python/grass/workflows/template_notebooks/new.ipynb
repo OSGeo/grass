{
  "cells": [
    {
      "cell_type": "code",
      "execution_count": null,
      "metadata": {},
      "outputs": [],
      "source": [
        "# Import GRASS scripting and Jupyter modules\n",
        "import grass.script as gs\n",
        "import grass.jupyter as gj"
      ]
    },
    {
      "cell_type": "code",
      "execution_count": null,
      "metadata": {},
      "outputs": [],
      "source": [
        "# Initialize Jupyter environment for GRASS\n",
        "gisenv = gs.gisenv()\n",
        "mapset_path = f\"{gisenv['GISDBASE']}/{gisenv['LOCATION_NAME']}/{gisenv['MAPSET']}\"\n",
        "gj.init(mapset_path)"
      ]
    }
  ],
  "metadata": {
    "kernelspec": {
      "display_name": "Python [GRASS]",
      "language": "python",
      "name": "grass"
    },
    "language_info": {
      "name": "python",
      "version": "3.x"
    }
  },
  "nbformat": 4,
  "nbformat_minor": 2
}
