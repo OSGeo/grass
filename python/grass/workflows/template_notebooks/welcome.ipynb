{
 "cells": [
  {
   "cell_type": "markdown",
   "metadata": {},
   "source": [
    "# Welcome to GRASS Jupyter environment 👋\n",
    "\n",
    "Jupyter server for this environment was started in the directory `${NOTEBOOK_DIR}`.\n",
    "\n",
    "---\n",
    "This notebook is ready to use with GRASS.\n",
    "You can run Python code using GRASS modules and data.\n",
    "\n",
    "---\n",
    "**Tip:** Start by running a cell below, or create a new empty notebook by clicking the *Create new notebook* button."
   ]
  },
  {
   "cell_type": "code",
   "execution_count": null,
   "metadata": {},
   "outputs": [],
   "source": [
    "# Import GRASS scripting and Jupyter modules\n",
    "import grass.script as gs\n",
    "import grass.jupyter as gj"
   ]
  },
  {
   "cell_type": "code",
   "execution_count": null,
   "metadata": {},
   "outputs": [],
   "source": [
    "# Initialize Jupyter environment for GRASS\n",
    "gisenv = gs.gisenv()\n",
    "mapset_path = f\"{gisenv['GISDBASE']}/{gisenv['LOCATION_NAME']}/{gisenv['MAPSET']}\"\n",
    "gj.init(mapset_path)"
   ]
  }
 ],
 "metadata": {
  "kernelspec": {
   "display_name": "Python [GRASS]",
   "language": "python",
   "name": "grass"
  },
  "language_info": {
   "name": "python",
   "version": "3.x"
  }
 },
 "nbformat": 4,
 "nbformat_minor": 2
}
