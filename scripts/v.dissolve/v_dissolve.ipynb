{
 "cells": [
  {
   "cell_type": "markdown",
   "metadata": {},
   "source": [
    "# v.dissolve\n",
    "\n",
    "This notebook presents couple examples of _v.dissolve_ and examination of its outputs.\n",
    "\n",
    "## Setup\n",
    "\n",
    "We will be using the NC SPM sample location."
   ]
  },
  {
   "cell_type": "code",
   "execution_count": null,
   "metadata": {},
   "outputs": [],
   "source": [
    "import json\n",
    "import subprocess\n",
    "import sys\n",
    "\n",
    "# Ask GRASS GIS where its Python packages are.\n",
    "sys.path.append(\n",
    "    subprocess.check_output([\"grass\", \"--config\", \"python_path\"], text=True).strip()\n",
    ")\n",
    "\n",
    "# Import GRASS packages\n",
    "import grass.script as gs\n",
    "import grass.jupyter as gj\n",
    "\n",
    "# Start GRASS Session\n",
    "gj.init(\"~/data/grassdata/nc_basic_spm_grass7/user1\")"
   ]
  },
  {
   "cell_type": "markdown",
   "metadata": {},
   "source": [
    "## Dissolve by Attribute\n",
    "\n",
    "We will use ZIP codes to create town boundaries by dissolving boundaries of ZIP code areas. Let's see the ZIP codes:"
   ]
  },
  {
   "cell_type": "code",
   "execution_count": null,
   "metadata": {},
   "outputs": [],
   "source": [
    "zipcodes = \"zipcodes\"\n",
    "town_map = gj.Map()\n",
    "town_map.d_vect(map=zipcodes)\n",
    "town_map.show()"
   ]
  },
  {
   "cell_type": "markdown",
   "metadata": {},
   "source": [
    " We dissolve boudaries between ZIP codes which have the same town name which is in the NAME attribute."
   ]
  },
  {
   "cell_type": "code",
   "execution_count": null,
   "metadata": {},
   "outputs": [],
   "source": [
    "towns = \"towns_from_zipcodes\"\n",
    "gs.run_command(\n",
    "    \"v.dissolve\",\n",
    "    input=zipcodes,\n",
    "    column=\"NAME\",\n",
    "    output=towns,\n",
    ")"
   ]
  },
  {
   "cell_type": "markdown",
   "metadata": {},
   "source": [
    "Color boudaries according to the primary key column called cat and display."
   ]
  },
  {
   "cell_type": "code",
   "execution_count": null,
   "metadata": {},
   "outputs": [],
   "source": [
    "gs.run_command(\"v.colors\", map=towns, use=\"attr\", column=\"cat\", color=\"wave\")"
   ]
  },
  {
   "cell_type": "code",
   "execution_count": null,
   "metadata": {},
   "outputs": [],
   "source": [
    "town_map.d_vect(map=towns)\n",
    "town_map.show()"
   ]
  },
  {
   "cell_type": "code",
   "execution_count": null,
   "metadata": {},
   "outputs": [],
   "source": [
    "town_map.d_vect(map=zipcodes, fill_color=\"none\")\n",
    "town_map.show()"
   ]
  },
  {
   "cell_type": "markdown",
   "metadata": {},
   "source": [
    "## Dissolve with Attribute Aggregation\n",
    "\n",
    "Now let's count number of ZIP codes in each town and compute total area as a sum of an existing column in the dataset."
   ]
  },
  {
   "cell_type": "code",
   "execution_count": null,
   "metadata": {},
   "outputs": [],
   "source": [
    "towns_with_area = \"towns_with_area\"\n",
    "gs.run_command(\n",
    "    \"v.dissolve\",\n",
    "    input=zipcodes,\n",
    "    column=\"NAME\",\n",
    "    output=towns_with_area,\n",
    "    aggregate_column=\"SHAPE_Area,SHAPE_Area\",\n",
    "    aggregate_method=\"count,sum\",\n",
    "    result_column=\"num_zip_codes,town_area\",\n",
    ")"
   ]
  },
  {
   "cell_type": "markdown",
   "metadata": {},
   "source": [
    "Print the computed attributes:"
   ]
  },
  {
   "cell_type": "code",
   "execution_count": null,
   "metadata": {},
   "outputs": [],
   "source": [
    "table = json.loads(gs.read_command(\"v.db.select\", map=towns_with_area, format=\"json\"))"
   ]
  },
  {
   "cell_type": "code",
   "execution_count": null,
   "metadata": {},
   "outputs": [],
   "source": [
    "for row in table[\"records\"]:\n",
    "    print(f'{row[\"NAME\"]:<14} {row[\"num_zip_codes\"]:>2} {row[\"town_area\"]:>12.0f}')"
   ]
  },
  {
   "cell_type": "markdown",
   "metadata": {},
   "source": [
    "Now color the result using the total area:"
   ]
  },
  {
   "cell_type": "code",
   "execution_count": null,
   "metadata": {},
   "outputs": [],
   "source": [
    "gs.run_command(\n",
    "    \"v.colors\", map=towns_with_area, use=\"attr\", column=\"town_area\", color=\"plasma\"\n",
    ")"
   ]
  },
  {
   "cell_type": "code",
   "execution_count": null,
   "metadata": {},
   "outputs": [],
   "source": [
    "town_map = gj.Map()\n",
    "town_map.d_vect(map=towns_with_area)\n",
    "town_map.show()"
   ]
  },
  {
   "cell_type": "markdown",
   "metadata": {},
   "source": [
    "## Images for Documentation\n",
    "\n",
    "Here, we use some of the data created above to create images for documentation."
   ]
  },
  {
   "cell_type": "code",
   "execution_count": null,
   "metadata": {},
   "outputs": [],
   "source": [
    "zip_map = gj.Map()\n",
    "zip_map.d_vect(map=towns, flags=\"s\")\n",
    "zip_map.d_vect(map=zipcodes, color=\"#222222\", width=2, type=\"boundary\")\n",
    "zip_map.d_legend_vect()\n",
    "zip_map.show()"
   ]
  },
  {
   "cell_type": "code",
   "execution_count": null,
   "metadata": {},
   "outputs": [],
   "source": [
    "town_map = gj.Map()\n",
    "town_map.d_vect(map=towns, flags=\"s\")\n",
    "town_map.d_vect(map=towns_with_area, color=\"#222222\", width=2, type=\"boundary\")\n",
    "town_map.d_legend_vect()\n",
    "town_map.show()"
   ]
  },
  {
   "cell_type": "code",
   "execution_count": null,
   "metadata": {},
   "outputs": [],
   "source": [
    "# This cell requires pngquant and optipng.\n",
    "zip_map.save(\"v_dissolve_zipcodes.png\")\n",
    "town_map.save(\"v_dissolve_towns.png\")\n",
    "for filename in [\"v_dissolve_zipcodes.png\", \"v_dissolve_towns.png\"]:\n",
    "    !pngquant --ext \".png\" -f {filename}\n",
    "    !optipng -o7 {filename}"
   ]
  },
  {
   "cell_type": "markdown",
   "metadata": {},
   "source": [
    "## Test\n",
    "\n",
    "For a small dataset, we can easily compute the same attribute values in Python. We do this assuming that all areas (polygons) with same value will be dissolved (merged) together possibly creating multipolygons."
   ]
  },
  {
   "cell_type": "code",
   "execution_count": null,
   "metadata": {},
   "outputs": [],
   "source": [
    "from collections import defaultdict\n",
    "\n",
    "# Get the original attribute data.\n",
    "zip_table = json.loads(gs.read_command(\"v.db.select\", map=zipcodes, format=\"json\"))\n",
    "# Restructure original data for easy lookup of area.\n",
    "zip_records_by_town = defaultdict(list)\n",
    "for row in zip_table[\"records\"]:\n",
    "    zip_records_by_town[row[\"NAME\"]].append(row[\"SHAPE_Area\"])\n",
    "\n",
    "# Check each row in the original table.\n",
    "for row in table[\"records\"]:\n",
    "    town_name = row[\"NAME\"]\n",
    "    town_area = row[\"town_area\"]\n",
    "    town_zip_codes = row[\"num_zip_codes\"]\n",
    "    areas_by_zip = zip_records_by_town[town_name]\n",
    "    # Check number ZIP codes.\n",
    "    if len(areas_by_zip) != town_zip_codes:\n",
    "        raise RuntimeError(f'Incorrect number of zipcodes in town {row[\"NAME\"]}')\n",
    "    # Check total area.\n",
    "    if round(sum(areas_by_zip)) != round(town_area):\n",
    "        raise RuntimeError(\n",
    "            f'Incorrect area for {row[\"NAME\"]}: {sum(areas_by_zip)} != {town_area}'\n",
    "        )\n",
    "print(\"No exceptions. Test passed.\")"
   ]
  }
 ],
 "metadata": {
  "kernelspec": {
   "display_name": "Python 3",
   "language": "python",
   "name": "python3"
  },
  "language_info": {
   "codemirror_mode": {
    "name": "ipython",
    "version": 3
   },
   "file_extension": ".py",
   "mimetype": "text/x-python",
   "name": "python",
   "nbconvert_exporter": "python",
   "pygments_lexer": "ipython3",
   "version": "3.8.10"
  }
 },
 "nbformat": 4,
 "nbformat_minor": 4
}
