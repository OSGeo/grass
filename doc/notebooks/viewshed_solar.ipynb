{
 "cells": [
  {
   "cell_type": "markdown",
   "metadata": {},
   "source": [
    "## Viewshed and solar energy potential analysis\n",
    "Resources:\n",
    "\n",
    "* [\n",
    "GRASS GIS overview and manual](https://grass.osgeo.org/grass76/manuals/index.html)\n",
    "* [ GRASSbook](http://www.grassbook.org/)\n"
   ]
  },
  {
   "cell_type": "code",
   "execution_count": null,
   "metadata": {},
   "outputs": [],
   "source": [
    "# Import Python standard library and IPython packages we need.\n",
    "import os\n",
    "import subprocess\n",
    "import sys\n",
    "\n",
    "# Ask GRASS GIS where its Python packages are.\n",
    "gisbase = subprocess.check_output([\"grass\", \"--config\", \"path\"], text=True).strip()\n",
    "os.environ[\"GISBASE\"] = gisbase\n",
    "sys.path.append(os.path.join(gisbase, \"etc\", \"python\"))\n",
    "\n",
    "# Import the GRASS GIS packages we need.\n",
    "import grass.script as gs\n",
    "import grass.jupyter as gj\n",
    "\n",
    "# Start GRASS Session\n",
    "gj.init(\"../../data/grassdata\", \"nc_basic_spm_grass7\", \"user1\")\n",
    "\n",
    "# Set computational region to elevation raster\n",
    "gs.run_command('g.region', raster='elevation@PERMANENT', flags='pg')"
   ]
  },
  {
   "cell_type": "markdown",
   "metadata": {},
   "source": [
    "### Viewshed analysis\n",
    "Compute viewshed from a new 32 story tower located in downtown and from the former RedHat headquaters."
   ]
  },
  {
   "cell_type": "code",
   "execution_count": null,
   "metadata": {},
   "outputs": [],
   "source": [
    "gs.parse_command('g.region', raster=\"elevation\", flags='apg')\n",
    "gs.write_command('v.in.ascii', input='-', stdin='%s|%s' % (642212, 224767), output='viewpoints')\n",
    "gs.run_command('r.viewshed', input=\"elevation\", output=\"tower_los\", coordinates=\"642212,224767\", observer_elevation=\"165\", max_distance=\"10000\")"
   ]
  },
  {
   "cell_type": "markdown",
   "metadata": {},
   "source": [
    "Display result on shaded relief:"
   ]
  },
  {
   "cell_type": "code",
   "execution_count": null,
   "metadata": {},
   "outputs": [],
   "source": [
    "vs_map = gj.InteractiveMap()\n",
    "\n",
    "vs_map.add_raster(\"tower_los\", opacity=0.7)\n",
    "vs_map.add_vector(\"viewpoints\")\n",
    "vs_map.add_layer_control()\n",
    "\n",
    "vs_map.show()"
   ]
  },
  {
   "cell_type": "markdown",
   "metadata": {},
   "source": [
    "### Solar radiation analysis\n",
    "\n",
    "Set the region and add the planned building to the DEM, we will use this new DEM for the analyses.\n",
    "Remove all layers and zoom to the region."
   ]
  },
  {
   "cell_type": "markdown",
   "metadata": {},
   "source": [
    "Prepare input maps (slope and aspect):"
   ]
  },
  {
   "cell_type": "code",
   "execution_count": null,
   "metadata": {},
   "outputs": [],
   "source": [
    "gs.run_command('r.slope.aspect', elevation=\"elevation\", aspect=\"aspect\", slope=\"slope\")"
   ]
  },
  {
   "cell_type": "markdown",
   "metadata": {},
   "source": [
    "#### Incidence angles and cast shadows\n",
    "\n",
    "Compute the sun position on Dec. 22 at 4:00pm, EST (no map output expected):"
   ]
  },
  {
   "cell_type": "code",
   "execution_count": null,
   "metadata": {},
   "outputs": [],
   "source": [
    "gs.run_command('r.sunmask', elevation=\"elevation\", year=\"2001\", month=\"12\", day=\"22\", hour=\"16\", minute=\"00\", sec=\"0\", timezone=\"-5\", flags='s')"
   ]
  },
  {
   "cell_type": "markdown",
   "metadata": {},
   "source": [
    "Calculate incidence angles including cast shadows."
   ]
  },
  {
   "cell_type": "code",
   "execution_count": null,
   "metadata": {},
   "outputs": [],
   "source": [
    "gs.run_command('r.sun', elevation=\"elevation\", aspect=\"aspect\", slope=\"slope\", incidout=\"incident\", day=\"356\", time=\"16\")\n",
    "gs.parse_command('r.info', map=\"incident\", flags='g')\n",
    "gs.run_command('r.colors', map=\"incident\", co=\"bcyr\", flags='e')\n",
    "\n",
    "solar_map = gj.GrassRenderer()\n",
    "solar_map.d_rast(map=\"incident\")\n",
    "solar_map.d_legend(raster=\"incident\", at=\"25,50,1,3\")\n",
    "solar_map.show()"
   ]
  },
  {
   "cell_type": "markdown",
   "metadata": {},
   "source": [
    "Extract the cast shadow area for 4:00pm."
   ]
  },
  {
   "cell_type": "code",
   "execution_count": null,
   "metadata": {},
   "outputs": [],
   "source": [
    "gs.mapcalc(\"shadow = if(isnull(incident), 1, null())\")\n",
    "gs.run_command('r.colors', map=\"shadow\", color=\"grey\")\n",
    "gs.run_command('r.colors', map=\"elevation\", color=\"elevation\")\n",
    "\n",
    "shadow_map = gj.GrassRenderer()\n",
    "shadow_map.d_rast(map=\"elevation\")\n",
    "shadow_map.d_rast(map=\"shadow\")\n",
    "shadow_map.show()"
   ]
  },
  {
   "cell_type": "markdown",
   "metadata": {},
   "source": [
    "#### Solar radiation\n",
    "Compute global (beam+diffuse+refl) radiation for entire day during summer and winter solstice.\n",
    "Display the radiation maps."
   ]
  },
  {
   "cell_type": "code",
   "execution_count": null,
   "metadata": {},
   "outputs": [],
   "source": [
    "gs.run_command('r.sun', elevation=\"elevation\", aspect=\"aspect\", slope=\"slope\", day=\"356\", glob_rad=\"winter\", insol_time=\"its356\")\n",
    "gs.run_command('r.colors', map=\"winter\", co=\"gyr\", flags='e')\n",
    "\n",
    "gs.run_command('r.sun', elevation=\"elevation\", aspect=\"aspect\", slope=\"slope\", day=\"172\", glob_rad=\"summer\", insol_time=\"its172\")\n",
    "gs.run_command('r.colors', map=\"summer\", co=\"gyr\", flags='e')"
   ]
  },
  {
   "cell_type": "code",
   "execution_count": null,
   "metadata": {},
   "outputs": [],
   "source": [
    "rad_map = gj.InteractiveMap()\n",
    "\n",
    "rad_map.add_raster(\"winter\")\n",
    "rad_map.add_raster(\"summer\")\n",
    "rad_map.add_layer_control()\n",
    "\n",
    "rad_map.show()"
   ]
  },
  {
   "cell_type": "code",
   "execution_count": null,
   "metadata": {},
   "outputs": [],
   "source": [
    "winter_map=gj.GrassRenderer()\n",
    "winter_map.d_rast(map=\"winter\")\n",
    "winter_map.d_legend(raster=\"winter\", at=\"25,50,1,3\")\n",
    "winter_map.show()"
   ]
  },
  {
   "cell_type": "code",
   "execution_count": null,
   "metadata": {},
   "outputs": [],
   "source": [
    "summer_map = gj.GrassRenderer()\n",
    "summer_map.d_rast(map=\"summer\")\n",
    "summer_map.d_legend(raster=\"summer\", at=\"25,50,1,3\", range=\"8800,8867\")\n",
    "summer_map.show()"
   ]
  },
  {
   "cell_type": "code",
   "execution_count": null,
   "metadata": {},
   "outputs": [],
   "source": []
  }
 ],
 "metadata": {
  "kernelspec": {
   "display_name": "Python 3",
   "language": "python",
   "name": "python3"
  },
  "language_info": {
   "codemirror_mode": {
    "name": "ipython",
    "version": 3
   },
   "file_extension": ".py",
   "mimetype": "text/x-python",
   "name": "python",
   "nbconvert_exporter": "python",
   "pygments_lexer": "ipython3",
   "version": "3.8.10"
  }
 },
 "nbformat": 4,
 "nbformat_minor": 4
}
