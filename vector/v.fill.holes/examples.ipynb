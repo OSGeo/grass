{
 "cells": [
  {
   "cell_type": "markdown",
   "metadata": {},
   "source": [
    "# Graphics for Description of r.series\n",
    "\n",
    "Requires _pngquant_, _optipng_ and ImageMagic _mogrify_."
   ]
  },
  {
   "cell_type": "code",
   "execution_count": null,
   "metadata": {},
   "outputs": [],
   "source": [
    "import os\n",
    "\n",
    "from IPython.display import Image\n",
    "\n",
    "import grass.script as gs\n",
    "import grass.jupyter as gj"
   ]
  },
  {
   "cell_type": "code",
   "execution_count": null,
   "metadata": {},
   "outputs": [],
   "source": [
    "gj.init(\"~/grassdata/nc_spm_08_grass7/user1\")"
   ]
  },
  {
   "cell_type": "code",
   "execution_count": null,
   "metadata": {},
   "outputs": [],
   "source": [
    "!v.extract --overwrite input=lakes where=\"FTYPE != 'ROCK/ISLAND'\" output=lakes_only --qq"
   ]
  },
  {
   "cell_type": "code",
   "execution_count": null,
   "metadata": {},
   "outputs": [],
   "source": [
    "!g.region n=243500 s=242800 w=647099 e=648152"
   ]
  },
  {
   "cell_type": "code",
   "execution_count": null,
   "metadata": {},
   "outputs": [],
   "source": [
    "plot = gj.Map(use_region=True, width=700)\n",
    "plot.d_background(color=\"white\")\n",
    "plot.d_vect(map=\"lakes_only\", legend_label=\"Original\")\n",
    "plot.d_legend_vect(flags=\"b\", at=(60,10))\n",
    "plot.show()"
   ]
  },
  {
   "cell_type": "code",
   "execution_count": null,
   "metadata": {},
   "outputs": [],
   "source": [
    "!v.fill.holes input=lakes_only output=lakes_filled"
   ]
  },
  {
   "cell_type": "code",
   "execution_count": null,
   "metadata": {},
   "outputs": [],
   "source": [
    "plot = gj.Map(use_region=True, width=700)\n",
    "plot.d_background(color=\"white\")\n",
    "plot.d_vect(map=\"lakes_filled\", legend_label=\"Filled\")\n",
    "plot.d_legend_vect(flags=\"b\", at=(60,10))\n",
    "plot.show()"
   ]
  },
  {
   "cell_type": "code",
   "execution_count": null,
   "metadata": {},
   "outputs": [],
   "source": [
    "!v.dissolve input=lakes_filled column=NAME output=lakes_dissolved --qq"
   ]
  },
  {
   "cell_type": "code",
   "execution_count": null,
   "metadata": {},
   "outputs": [],
   "source": [
    "plot = gj.Map(use_region=True, width=700)\n",
    "plot.d_background(color=\"white\")\n",
    "plot.d_vect(map=\"lakes_dissolved\", legend_label=\"Dissolved\")\n",
    "plot.d_legend_vect(flags=\"b\", at=(60,10))\n",
    "plot.show()"
   ]
  },
  {
   "cell_type": "code",
   "execution_count": null,
   "metadata": {},
   "outputs": [],
   "source": [
    "plot = gj.Map(use_region=True, width=700)\n",
    "plot.d_background(color=\"white\")\n",
    "plot.d_vect(map=\"lakes_filled\", color=\"none\", legend_label=\"Filled\")\n",
    "plot.d_vect(map=\"lakes_only\", color=\"#33BBEE\", fill_color=\"none\", width=2, legend_label=\"Original\")\n",
    "plot.d_legend_vect(flags=\"b\", at=(60,15))\n",
    "filename = \"v_fill_holes.png\"\n",
    "plot.save(filename)\n",
    "!mogrify -trim {filename}\n",
    "!pngquant --ext \".png\" -f {filename}\n",
    "!optipng -o7 {filename}\n",
    "Image(filename)"
   ]
  }
 ],
 "metadata": {
  "kernelspec": {
   "display_name": "Python 3 (ipykernel)",
   "language": "python",
   "name": "python3"
  },
  "language_info": {
   "codemirror_mode": {
    "name": "ipython",
    "version": 3
   },
   "file_extension": ".py",
   "mimetype": "text/x-python",
   "name": "python",
   "nbconvert_exporter": "python",
   "pygments_lexer": "ipython3",
   "version": "3.8.10"
  }
 },
 "nbformat": 4,
 "nbformat_minor": 4
}
