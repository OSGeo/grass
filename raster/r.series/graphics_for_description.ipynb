{
 "cells": [
  {
   "cell_type": "markdown",
   "metadata": {},
   "source": [
    "# Graphics for Description of r.series\n",
    "\n",
<<<<<<< HEAD
    "Requires _d.explanation.plot_ (GRASS GIS addon), _pngquant_, _optipng_ and ImageMagic _mogrify_."
=======
    "Requires _d.explanation.plot_, _pngquant_, _optipng_ and ImageMagic _mogrify_."
>>>>>>> 6cf60c76a4 (wxpyimgview: explicit conversion to int (#2704))
   ]
  },
  {
   "cell_type": "code",
   "execution_count": null,
   "metadata": {},
   "outputs": [],
   "source": [
    "import os\n",
    "\n",
    "from IPython.display import Image\n",
    "\n",
    "import grass.script as gs\n",
    "import grass.jupyter as gj\n",
    "\n",
    "gs.set_raise_on_error(True)\n",
    "gs.set_capture_stderr(True)\n",
    "os.environ[\"GRASS_OVERWRITE\"] = \"1\""
   ]
  },
  {
   "cell_type": "code",
   "execution_count": null,
   "metadata": {},
   "outputs": [],
   "source": [
    "!g.region n=99 s=0 e=99 w=0 rows=3 cols=3\n",
    "!r.mapcalc expression=\"a = rand(0., 5)\" seed=1\n",
    "!r.mapcalc expression=\"b = rand(0., 5)\" seed=2\n",
    "!r.mapcalc expression=\"c = rand(0., 5)\" seed=3\n",
    "!r.series input=a,b,c output=d method=average"
   ]
  },
  {
   "cell_type": "code",
   "execution_count": null,
   "metadata": {},
   "outputs": [],
   "source": [
    "plot = gj.Map(use_region=True, width=700, height=700)\n",
    "plot.d_background(color=\"white\")\n",
    "plot.run(\n",
    "    \"d.explanation.plot\",\n",
    "    a=\"a\",\n",
    "    b=\"b\",\n",
    "    c=\"c\",\n",
    "    d=\"d\",\n",
    "    label_a=\"input 1\",\n",
    "    label_b=\"input 2\",\n",
<<<<<<< HEAD
    "    label_c=\"input 3\",\n",
=======
    "    label_c=\"input 1\",\n",
>>>>>>> 6cf60c76a4 (wxpyimgview: explicit conversion to int (#2704))
    "    label_d=\"average\",\n",
    "    operator_font=\"FreeMono:Regular\",\n",
    ")\n",
    "plot.show()"
   ]
  },
  {
   "cell_type": "code",
   "execution_count": null,
   "metadata": {},
   "outputs": [],
   "source": [
    "filename = \"r_series.png\"\n",
    "plot.save(filename)\n",
    "!mogrify -trim {filename}\n",
    "!pngquant --ext \".png\" -f {filename}\n",
    "!optipng -o7 {filename}\n",
    "Image(filename)"
   ]
  }
 ],
 "metadata": {
  "kernelspec": {
   "display_name": "Python 3",
   "language": "python",
   "name": "python3"
  },
  "language_info": {
   "codemirror_mode": {
    "name": "ipython",
    "version": 3
   },
   "file_extension": ".py",
   "mimetype": "text/x-python",
   "name": "python",
   "nbconvert_exporter": "python",
   "pygments_lexer": "ipython3",
   "version": "3.8.10"
  }
 },
 "nbformat": 4,
 "nbformat_minor": 4
}
