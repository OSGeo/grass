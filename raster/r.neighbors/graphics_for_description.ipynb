{
 "cells": [
  {
   "cell_type": "markdown",
   "metadata": {},
   "source": [
    "# Graphics for Description of r.series\n",
    "\n",
    "Requires _d.explanation.plot_, _pngquant_, _optipng_ and ImageMagic _mogrify_."
   ]
  },
  {
   "cell_type": "code",
   "execution_count": null,
   "metadata": {},
   "outputs": [],
   "source": [
    "import os\n",
    "\n",
    "from IPython.display import Image\n",
    "\n",
    "import grass.script as gs\n",
    "import grass.jupyter as gj\n",
    "\n",
    "gs.set_raise_on_error(True)\n",
    "gs.set_capture_stderr(True)\n",
    "os.environ[\"GRASS_OVERWRITE\"] = \"1\""
   ]
  },
  {
   "cell_type": "code",
   "execution_count": null,
   "metadata": {},
   "outputs": [],
   "source": [
    "!g.region n=99 s=0 e=99 w=0 rows=3 cols=3\n",
    "!r.mapcalc expression=\"a = rand(0, 3)\" seed=1\n",
    "!r.neighbors input=a output=b method=sum"
   ]
  },
  {
   "cell_type": "code",
   "execution_count": null,
   "metadata": {},
   "outputs": [],
   "source": [
    "plot = gj.Map(use_region=True, width=700, height=700)\n",
    "plot.d_background(color=\"white\")\n",
    "plot.run(\n",
    "    \"d.explanation.plot\",\n",
    "    a=\"a\",\n",
    "    b=\"b\",\n",
    "    label_a=\"input\",\n",
    "    label_b='method=\"sum\"',\n",
    "    operator_font=\"FreeMono:Regular\",\n",
    ")\n",
    "plot.show()"
   ]
  },
  {
   "cell_type": "code",
   "execution_count": null,
   "metadata": {},
   "outputs": [],
   "source": [
    "filename = \"r_neighbors.png\"\n",
    "plot.save(filename)\n",
    "!mogrify -trim {filename}\n",
    "!pngquant --ext \".png\" -f {filename}\n",
    "!optipng -o7 {filename}\n",
    "Image(filename)"
   ]
  }
 ],
 "metadata": {
  "kernelspec": {
   "display_name": "Python 3",
   "language": "python",
   "name": "python3"
  },
  "language_info": {
   "codemirror_mode": {
    "name": "ipython",
    "version": 3
   },
   "file_extension": ".py",
   "mimetype": "text/x-python",
   "name": "python",
   "nbconvert_exporter": "python",
   "pygments_lexer": "ipython3",
   "version": "3.8.10"
  }
 },
 "nbformat": 4,
 "nbformat_minor": 4
}
