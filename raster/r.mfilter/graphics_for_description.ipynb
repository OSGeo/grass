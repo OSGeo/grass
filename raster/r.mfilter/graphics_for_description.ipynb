{
 "cells": [
  {
   "cell_type": "markdown",
   "metadata": {},
   "source": [
    "# Graphics for Description of r.mfilter\n",
    "\n",
    "Requires _d.explanation.plot_, _pngquant_, _optipng_ and ImageMagic _mogrify_."
   ]
  },
  {
   "cell_type": "code",
   "execution_count": null,
   "metadata": {},
   "outputs": [],
   "source": [
    "import os\n",
    "\n",
    "from IPython.display import Image\n",
    "\n",
    "import grass.script as gs\n",
    "import grass.jupyter as gj\n",
    "\n",
    "gs.set_raise_on_error(True)\n",
    "gs.set_capture_stderr(True)\n",
    "os.environ[\"GRASS_OVERWRITE\"] = \"1\""
   ]
  },
  {
   "cell_type": "code",
   "execution_count": null,
   "metadata": {},
   "outputs": [],
   "source": [
    "%%writefile filter.txt\n",
    "TITLE     3x3 average, non-null data only, followed by 5x5 average\n",
    "MATRIX    3\n",
    "0 1 2\n",
    "1 2 1\n",
    "2 1 0"
   ]
  },
  {
   "cell_type": "code",
   "execution_count": null,
   "metadata": {},
   "outputs": [],
   "source": [
    "%%writefile filter_raster.txt\n",
    "north: 99\n",
    "south: 0\n",
    "east: 99\n",
    "west: 0\n",
    "rows: 3\n",
    "cols: 3\n",
    "0 1 2\n",
    "1 2 1\n",
    "2 1 0\n",
    "EOF"
   ]
  },
  {
   "cell_type": "code",
   "execution_count": null,
   "metadata": {},
   "outputs": [],
   "source": [
    "!r.in.ascii input=filter_raster.txt output=filter"
   ]
  },
  {
   "cell_type": "code",
   "execution_count": null,
   "metadata": {},
   "outputs": [],
   "source": [
    "!g.region n=99 s=0 e=99 w=0 rows=3 cols=3 -p\n",
    "!r.mapcalc expression=\"a = rand(0, 3)\" seed=2\n",
    "!r.mfilter input=a output=b filter=filter.txt"
   ]
  },
  {
   "cell_type": "code",
   "execution_count": null,
   "metadata": {},
   "outputs": [],
   "source": [
    "plot = gj.Map(use_region=True, width=700, height=700)\n",
    "plot.d_background(color=\"white\")\n",
    "plot.run(\n",
    "    \"d.explanation.plot\",\n",
    "    a=\"a\",\n",
    "    b=\"filter\",\n",
    "    c=\"b\",\n",
    "    label_a=\"input\",\n",
    "    label_b=\"filter\",\n",
    "    label_c=\"result\",\n",
    "    operator_font=\"FreeMono:Regular\",\n",
    "    bottom=\"50\",\n",
    ")\n",
    "plot.show()"
   ]
  },
  {
   "cell_type": "code",
   "execution_count": null,
   "metadata": {},
   "outputs": [],
   "source": [
    "filename = \"r_mfilter.png\"\n",
    "plot.save(filename)\n",
    "!mogrify -trim {filename}\n",
    "!pngquant --ext \".png\" -f {filename}\n",
    "!optipng -o7 {filename}\n",
    "Image(filename)"
   ]
  }
 ],
 "metadata": {
  "kernelspec": {
   "display_name": "Python 3",
   "language": "python",
   "name": "python3"
  },
  "language_info": {
   "codemirror_mode": {
    "name": "ipython",
    "version": 3
   },
   "file_extension": ".py",
   "mimetype": "text/x-python",
   "name": "python",
   "nbconvert_exporter": "python",
   "pygments_lexer": "ipython3",
   "version": "3.8.10"
  }
 },
 "nbformat": 4,
 "nbformat_minor": 4
}
