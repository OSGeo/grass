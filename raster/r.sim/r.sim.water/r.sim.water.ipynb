{
 "cells": [
  {
   "cell_type": "markdown",
   "id": "05ec86f0-769a-407c-94b9-9e2bcaa35696",
   "metadata": {},
   "source": [
    "# SIMWE testing"
   ]
  },
  {
   "cell_type": "code",
   "execution_count": null,
   "id": "2a5b6488",
   "metadata": {},
   "outputs": [],
   "source": [
    "import os\n",
    "import subprocess\n",
    "import sys\n",
    "import shutil\n",
    "\n",
    "# Download zip\n",
    "!curl https://grass.osgeo.org/sampledata/north_carolina/nc_spm_08_grass7.zip -o ~/data/nc_spm_08_grass7.zip\n",
    "\n",
    "# Unpack zip to grassdata\n",
    "shutil.unpack_archive(\n",
    "    os.path.expanduser(\"~/data/nc_spm_08_grass7.zip\"),\n",
    "    os.path.expanduser(\"~/data/\"),\n",
    "    \"zip\",\n",
    ")"
   ]
  },
  {
   "cell_type": "code",
   "execution_count": null,
   "id": "6d311c40-7f6f-4b29-8870-88ff58bd92cb",
   "metadata": {},
   "outputs": [],
   "source": [
    "import subprocess\n",
    "import sys\n",
    "\n",
    "sys.path.append(\n",
    "    subprocess.check_output([\"grass\", \"--config\", \"python_path\"], text=True).strip()\n",
    ")\n",
    "# Import GRASS packages\n",
    "import grass.script as gs\n",
    "import grass.jupyter as gj\n",
    "\n",
    "# Start GRASS Session\n",
    "gj.init(\"~/data/nc_spm_08_grass7\")"
   ]
  },
  {
   "cell_type": "code",
   "execution_count": null,
   "id": "e53df8cd-6f23-4543-841b-abf5e7ac0608",
   "metadata": {},
   "outputs": [],
   "source": [
    "elevation = \"elev_lid792_1m\"\n",
    "gs.run_command(\"g.region\", raster=elevation)\n",
    "gs.run_command(\"r.slope.aspect\", elevation=elevation, dx=\"dx\", dy=\"dy\")\n",
    "gs.run_command(\"g.region\", s=\"s+290\")\n",
    "\n",
    "elevation_map = gj.Map(use_region=True)\n",
    "elevation_map.d_rast(map=elevation)\n",
    "elevation_map.show()"
   ]
  },
  {
   "cell_type": "markdown",
   "id": "9aaca3c8",
   "metadata": {},
   "source": [
    "## No infiltration"
   ]
  },
  {
   "cell_type": "code",
   "execution_count": null,
   "id": "317d3e6c-1bb9-49fc-b758-6723010f413e",
   "metadata": {},
   "outputs": [],
   "source": [
    "# Output time step increment\n",
    "increment = 1\n",
    "niterations = 10\n",
    "\n",
    "gs.run_command(\n",
    "    \"r.sim.water\",\n",
    "    elevation=elevation,\n",
    "    dx=\"dx\",\n",
    "    dy=\"dy\",\n",
    "    rain_value=50,\n",
    "    infil_value=0,\n",
    "    depth=\"depth\",\n",
    "    discharge=\"disch\",\n",
    "    niterations=niterations,\n",
    "    output_step=increment,\n",
    "    flags=\"t\",\n",
    ")\n",
    "\n",
    "img = gj.Map()\n",
    "img.d_rast(map=f\"depth.{niterations}\")\n",
    "img.d_legend(raster=f\"depth.{niterations}\", at=(45, 95, 85, 90), flags=\"l\")\n",
    "img.show()"
   ]
  },
  {
   "cell_type": "code",
   "execution_count": null,
   "id": "6ff669ef",
   "metadata": {},
   "outputs": [],
   "source": [
    "img = gj.InteractiveMap(width=1000)\n",
    "img.add_raster(f\"depth.{niterations}\")\n",
    "img.add_raster(f\"disch.{niterations}\")\n",
    "img.show()"
   ]
  },
  {
   "cell_type": "code",
   "execution_count": null,
   "id": "ddda5182-4c87-4556-8bf9-2a478e91a09d",
   "metadata": {},
   "outputs": [],
   "source": [
    "# Register the time series\n",
    "gs.run_command(\n",
    "    \"t.create\",\n",
    "    output=\"depth\",\n",
    "    temporaltype=\"relative\",\n",
    "    title=\"Overland flow depth\",\n",
    "    description=\"Overland flow depth\",\n",
    ")\n",
    "# Register the time series\n",
    "maps = gs.list_strings(type=\"raster\", pattern=\"depth*\")\n",
    "gs.run_command(\"t.register\", input=\"depth\", maps=maps)\n",
    "\n",
    "# Create a time series map\n",
    "flow_map = gj.TimeSeriesMap()\n",
    "\n",
    "# Add the time series data\n",
    "flow_map.add_raster_series(\"depth\")\n",
    "\n",
    "# Add map features\n",
    "flow_map.d_legend(\n",
    "    raster=f\"depth.{niterations}\",\n",
    "    title=\"Depth [m]\",\n",
    "    flags=\"bt\",\n",
    "    border_color=\"none\",\n",
    "    at=(1, 50, 0, 5),\n",
    ")\n",
    "\n",
    "# Display the map\n",
    "flow_map.show()"
   ]
  },
  {
   "cell_type": "markdown",
   "id": "e0e5aa64",
   "metadata": {},
   "source": [
    "## Infiltration\n",
    "Setup rainfall excess and infiltration layers:"
   ]
  },
  {
   "cell_type": "code",
   "execution_count": null,
   "id": "99efde56",
   "metadata": {},
   "outputs": [],
   "source": [
    "infil_upper = 0\n",
    "infil_lower = 10\n",
    "\n",
    "gs.mapcalc(f\"infil = if(y() > 220520, {infil_upper}, {infil_lower})\")\n",
    "\n",
    "rainfall_upper = 50\n",
    "rainfall_lower = 50\n",
    "\n",
    "gs.mapcalc(f\"rainfall = if(y() > 220520, {rainfall_upper}, {rainfall_lower})\")"
   ]
  },
  {
   "cell_type": "code",
   "execution_count": null,
   "id": "7fb27b941602401d91542211134fc71a",
   "metadata": {},
   "outputs": [],
   "source": [
    "increment = 1\n",
    "niterations = 10\n",
    "\n",
    "output_suffix = (\n",
    "    f\"rain_{rainfall_upper}_{rainfall_lower}_infil_{infil_upper}_{infil_lower}\"\n",
    ")\n",
    "\n",
    "gs.run_command(\n",
    "    \"r.sim.water\",\n",
    "    elevation=elevation,\n",
    "    dx=\"dx\",\n",
    "    dy=\"dy\",\n",
    "    rain=\"rainfall\",\n",
    "    infil=\"infil\",\n",
    "    depth=\"depth_\" + output_suffix,\n",
    "    discharge=\"disch_\" + output_suffix,\n",
    "    niterations=niterations,\n",
    "    output_step=increment,\n",
    "    flags=\"t\",\n",
    ")\n",
    "\n",
    "img = gj.Map()\n",
    "img.d_rast(map=f\"depth_{output_suffix}.{niterations}\")\n",
    "img.d_legend(\n",
    "    raster=f\"depth_{output_suffix}.{niterations}\", at=(45, 95, 85, 90), flags=\"l\"\n",
    ")\n",
    "img.show()"
   ]
  },
  {
   "cell_type": "code",
   "execution_count": null,
   "id": "21d1e06a",
   "metadata": {},
   "outputs": [],
   "source": [
    "img = gj.InteractiveMap()\n",
    "img.add_raster(f\"depth_{output_suffix}.{niterations}\")\n",
    "img.add_raster(f\"disch_{output_suffix}.{niterations}\")\n",
    "img.show()"
   ]
  },
  {
   "cell_type": "code",
   "execution_count": null,
   "id": "1c61e672",
   "metadata": {},
   "outputs": [],
   "source": [
    "print(gs.read_command(\"r.info\", map=f\"depth_{output_suffix}.{niterations}\"))"
   ]
  }
 ],
 "metadata": {
  "kernelspec": {
   "display_name": "Python 3 (ipykernel)",
   "language": "python",
   "name": "python3"
  },
  "language_info": {
   "codemirror_mode": {
    "name": "ipython",
    "version": 3
   },
   "file_extension": ".py",
   "mimetype": "text/x-python",
   "name": "python",
   "nbconvert_exporter": "python",
   "pygments_lexer": "ipython3",
   "version": "3.9.5"
  }
 },
 "nbformat": 4,
 "nbformat_minor": 5
}
